{
 "cells": [
  {
   "cell_type": "code",
   "execution_count": 6,
   "id": "adebd499-ae89-459e-9caf-54ed5709ed57",
   "metadata": {},
   "outputs": [],
   "source": [
    "import os\n",
    "from flask import Flask, send_from_directory, request, jsonify\n",
    "from twilio.rest import Client\n",
    "from dotenv import load_dotenv\n",
    "\n",
    "load_dotenv()\n",
    "\n",
    "TWILIO_ACCOUNT_SID = os.getenv('TWILIO_ACCOUNT_SID')\n",
    "TWILIO_AUTH_TOKEN = os.getenv('TWILIO_AUTH_TOKEN')\n",
    "TWILIO_PHONE_NUMBER = os.getenv('TWILIO_PHONE_NUMBER')\n",
    "\n",
    "app = Flask(__name__)\n",
    "\n",
    "# Create Twilio client\n",
    "client = Client(TWILIO_ACCOUNT_SID, TWILIO_AUTH_TOKEN)"
   ]
  },
  {
   "cell_type": "code",
   "execution_count": null,
   "id": "d025ea47-b20c-4840-874f-b09bfe568290",
   "metadata": {},
   "outputs": [],
   "source": []
  }
 ],
 "metadata": {
  "kernelspec": {
   "display_name": "Python 3 (ipykernel)",
   "language": "python",
   "name": "python3"
  },
  "language_info": {
   "codemirror_mode": {
    "name": "ipython",
    "version": 3
   },
   "file_extension": ".py",
   "mimetype": "text/x-python",
   "name": "python",
   "nbconvert_exporter": "python",
   "pygments_lexer": "ipython3",
   "version": "3.11.11"
  }
 },
 "nbformat": 4,
 "nbformat_minor": 5
}
